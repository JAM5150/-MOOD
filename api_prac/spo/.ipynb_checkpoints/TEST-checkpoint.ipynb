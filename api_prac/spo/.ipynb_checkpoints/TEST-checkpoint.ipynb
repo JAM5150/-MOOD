{
 "cells": [
  {
   "cell_type": "code",
   "execution_count": 13,
   "id": "7dc71705",
   "metadata": {},
   "outputs": [],
   "source": [
    "import pprint\n",
    "from get_spotify_access import get_spotify_credentials\n",
    "from get_song_recommen import get_song_recommen\n",
    "from get_search import get_search\n",
    "from spotify_credentials import CLIENT_ID, CLIENT_SECRET\n",
    "sp = get_spotify_credentials(client_id=CLIENT_ID, client_secret=CLIENT_SECRET)"
   ]
  },
  {
   "cell_type": "code",
   "execution_count": 14,
   "id": "8a735365",
   "metadata": {},
   "outputs": [
    {
     "name": "stdout",
     "output_type": "stream",
     "text": [
      "[('IU',\n",
      "  '5xrtzzzikpG3BLbo4q1Yul',\n",
      "  'LILAC',\n",
      "  'https://i.scdn.co/image/ab67616d0000b2734ed058b71650a6ca2c04adff'),\n",
      " ('Jay Park',\n",
      "  '5quFr5s5PXYfUX5jV2EBZ1',\n",
      "  'GANADARA (Feat. IU)',\n",
      "  'https://i.scdn.co/image/ab67616d0000b2738c0defcb336a0296eb7d704a'),\n",
      " ('Yung Gravy',\n",
      "  '02TmyBZCgcVihv9PVK9Mw2',\n",
      "  'iunno',\n",
      "  'https://i.scdn.co/image/ab67616d0000b27345c4d0ecf58ec70bbff955d8'),\n",
      " ('IU',\n",
      "  '0pYacDCZuRhcrwGUA5nTBe',\n",
      "  'eight(Prod.&Feat. SUGA of BTS)',\n",
      "  'https://i.scdn.co/image/ab67616d0000b273c63be04ae902b1da7a54d247'),\n",
      " ('IU',\n",
      "  '4as4XEOR03oGm1STUKl6pa',\n",
      "  'BBIBBI',\n",
      "  'https://i.scdn.co/image/ab67616d0000b273a1d785640d9421ec17ea8fe6'),\n",
      " ('ZICO',\n",
      "  '1pz24zu5H9A0S1a2NKT4F0',\n",
      "  'SoulMate (feat. IU)',\n",
      "  'https://i.scdn.co/image/ab67616d0000b2737ac73c439819e81f544cc023'),\n",
      " ('IU',\n",
      "  '1SwZVVH9BnXtLRLi2cbFhw',\n",
      "  'Good day',\n",
      "  'https://i.scdn.co/image/ab67616d0000b27315cf3110f19687b1a24943d1'),\n",
      " ('IU',\n",
      "  '4Dr2hJ3EnVh2Aaot6fRwDO',\n",
      "  'Blueming',\n",
      "  'https://i.scdn.co/image/ab67616d0000b273b658276cd9884ef6fae69033'),\n",
      " ('IU',\n",
      "  '5nCwjUUsmBuNZKn9Xu10Os',\n",
      "  'Celebrity',\n",
      "  'https://i.scdn.co/image/ab67616d0000b2734ed058b71650a6ca2c04adff'),\n",
      " ('IU',\n",
      "  '4RewTiGEGoO7FWNZUmp1f4',\n",
      "  'Celebrity',\n",
      "  'https://i.scdn.co/image/ab67616d0000b2732fda07910d40ee81e620fe3f')]\n"
     ]
    }
   ],
   "source": [
    "search_for = 'IU'\n",
    "artist_id, artist_name, tracks_id, tracks_name, tracks_image, search_result = get_search(sp=sp, search=search_for)\n",
    "\n",
    "pprint.pprint(list(search_result))"
   ]
  },
  {
   "cell_type": "code",
   "execution_count": 15,
   "id": "d6857d1c",
   "metadata": {},
   "outputs": [],
   "source": [
    "s = 1 #선택\n",
    "artist_id = artist_id[s]\n",
    "artist_name = artist_name[s]\n",
    "tracks_id = tracks_id[s]\n",
    "tracks_name = tracks_name[s]\n",
    "tracks_image = tracks_image[s]"
   ]
  },
  {
   "cell_type": "code",
   "execution_count": 16,
   "id": "0b8d6d83",
   "metadata": {},
   "outputs": [],
   "source": [
    "artistname, tracks, tracks_img, recommend = get_song_recommen(sp=sp, artist_id=artist_id, artist_name=artist_name, track_id=tracks_id)\n",
    "\n",
    "rec = list(recommend)"
   ]
  },
  {
   "cell_type": "code",
   "execution_count": 17,
   "id": "9fe0f826",
   "metadata": {},
   "outputs": [
    {
     "name": "stdout",
     "output_type": "stream",
     "text": [
      "[('DEAN',\n",
      "  'love',\n",
      "  'https://i.scdn.co/image/ab67616d0000b273ed3e641e274840b817860773'),\n",
      " ('John Park',\n",
      "  'Thought Of You',\n",
      "  'https://i.scdn.co/image/ab67616d0000b27319b21380b9330184dfa922a7'),\n",
      " ('Junoflo',\n",
      "  'Acid Freestyle',\n",
      "  'https://i.scdn.co/image/ab67616d0000b273eb590d445a969700c5d2a500'),\n",
      " ('BIGBANG',\n",
      "  'ZUTTER (GD&T.O.P)',\n",
      "  'https://i.scdn.co/image/ab67616d0000b273fd0d9a33127c1d3f58ba3504'),\n",
      " ('Chancellor',\n",
      "  'Walking In The Rain (feat. Younha)',\n",
      "  'https://i.scdn.co/image/ab67616d0000b273d1aa897c87308d4e4163355e')]\n"
     ]
    }
   ],
   "source": [
    "pprint.pprint(rec)"
   ]
  },
  {
   "cell_type": "code",
   "execution_count": null,
   "id": "bbff50f6",
   "metadata": {},
   "outputs": [],
   "source": []
  }
 ],
 "metadata": {
  "kernelspec": {
   "display_name": "Python 3 (ipykernel)",
   "language": "python",
   "name": "python3"
  },
  "language_info": {
   "codemirror_mode": {
    "name": "ipython",
    "version": 3
   },
   "file_extension": ".py",
   "mimetype": "text/x-python",
   "name": "python",
   "nbconvert_exporter": "python",
   "pygments_lexer": "ipython3",
   "version": "3.9.7"
  }
 },
 "nbformat": 4,
 "nbformat_minor": 5
}
