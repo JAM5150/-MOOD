{
 "cells": [
  {
   "cell_type": "code",
   "execution_count": 8,
   "id": "7dc71705",
   "metadata": {},
   "outputs": [],
   "source": [
    "from get_spotify_access import get_spotify_credentials\n",
    "from get_song_recommen import get_song_recommen\n",
    "from get_search import get_search\n",
    "from spotify_credentials import CLIENT_ID, CLIENT_SECRET\n",
    "sp = get_spotify_credentials(client_id=CLIENT_ID, client_secret=CLIENT_SECRET)"
   ]
  },
  {
   "cell_type": "code",
   "execution_count": 9,
   "id": "8a735365",
   "metadata": {},
   "outputs": [],
   "source": [
    "search_for = 'IU'\n",
    "artist_id, artist_name, tracks_id, tracks_name, tracks_image, search_result = get_search(sp=sp, search=search_for)"
   ]
  },
  {
   "cell_type": "code",
   "execution_count": 10,
   "id": "d6857d1c",
   "metadata": {},
   "outputs": [],
   "source": [
    "s = 1 #선택\n",
    "artist_id = artist_id[s]\n",
    "artist_name = artist_name[s]\n",
    "tracks_id = tracks_id[s]\n",
    "tracks_name = tracks_name[s]\n",
    "tracks_image = tracks_image[s]"
   ]
  },
  {
   "cell_type": "code",
   "execution_count": 11,
   "id": "0b8d6d83",
   "metadata": {},
   "outputs": [],
   "source": [
    "import pprint\n",
    "artistname, tracks, tracks_img, recommend = get_song_recommen(sp=sp, artist_id=artist_id, artist_name=artist_name, track_id=tracks_id)\n",
    "\n",
    "rec = list(recommend)"
   ]
  },
  {
   "cell_type": "code",
   "execution_count": 12,
   "id": "9fe0f826",
   "metadata": {},
   "outputs": [
    {
     "name": "stdout",
     "output_type": "stream",
     "text": [
      "[('Junoflo',\n",
      "  'Never Enough',\n",
      "  'https://i.scdn.co/image/ab67616d0000b27377ee249d093b328ce1b7790f'),\n",
      " ('4Minute',\n",
      "  'Hate',\n",
      "  'https://i.scdn.co/image/ab67616d0000b27385155038f6eb09e2212d7094'),\n",
      " ('Jay Park',\n",
      "  'My Last',\n",
      "  'https://i.scdn.co/image/ab67616d0000b2734b378770cd6b77e86f8a6288'),\n",
      " ('JAMIE',\n",
      "  'Stay Beautiful',\n",
      "  'https://i.scdn.co/image/ab67616d0000b2738c821b3db174564858f45235'),\n",
      " ('YUGYEOM',\n",
      "  'Take You Down (Feat. Coogie)',\n",
      "  'https://i.scdn.co/image/ab67616d0000b273b30a2ade00918b677d609f14')]\n"
     ]
    }
   ],
   "source": [
    "pprint.pprint(rec)"
   ]
  },
  {
   "cell_type": "code",
   "execution_count": null,
   "id": "bbff50f6",
   "metadata": {},
   "outputs": [],
   "source": []
  }
 ],
 "metadata": {
  "kernelspec": {
   "display_name": "Python 3 (ipykernel)",
   "language": "python",
   "name": "python3"
  },
  "language_info": {
   "codemirror_mode": {
    "name": "ipython",
    "version": 3
   },
   "file_extension": ".py",
   "mimetype": "text/x-python",
   "name": "python",
   "nbconvert_exporter": "python",
   "pygments_lexer": "ipython3",
   "version": "3.9.7"
  }
 },
 "nbformat": 4,
 "nbformat_minor": 5
}
