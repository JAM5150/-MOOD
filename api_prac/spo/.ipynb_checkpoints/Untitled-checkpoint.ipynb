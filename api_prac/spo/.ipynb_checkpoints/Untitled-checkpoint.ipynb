{
 "cells": [
  {
   "cell_type": "code",
   "execution_count": 5,
   "id": "66a7565e",
   "metadata": {},
   "outputs": [],
   "source": [
    "from get_spotify_access import get_spotify_credentials\n",
    "from get_song_recommen import get_song_recommen\n",
    "#from get_albums_details import get_album_details"
   ]
  },
  {
   "cell_type": "code",
   "execution_count": 6,
   "id": "b5294d75",
   "metadata": {},
   "outputs": [],
   "source": [
    "from spotify_credentials import CLIENT_ID, CLIENT_SECRET\n",
    "sp = get_spotify_credentials(client_id=CLIENT_ID, client_secret=CLIENT_SECRET)"
   ]
  },
  {
   "cell_type": "code",
   "execution_count": 19,
   "id": "3e60816e",
   "metadata": {},
   "outputs": [
    {
     "name": "stdout",
     "output_type": "stream",
     "text": [
      "[('0Sadg1vgvaPqGTOjxu0N6c',\n",
      "  \"Girls' Generation\",\n",
      "  '0t7kjpVLgOYITrSfFCoBEA',\n",
      "  'Gee',\n",
      "  'https://i.scdn.co/image/ab67616d0000b2739b57e9b31c831fb2137c38e2'),\n",
      " ('0Sadg1vgvaPqGTOjxu0N6c',\n",
      "  \"Girls' Generation\",\n",
      "  '18fWwTkrIxojEC2gmVyoxS',\n",
      "  'Kissing You',\n",
      "  'https://i.scdn.co/image/ab67616d0000b2731111b7562b4b46870d27f98b')]\n"
     ]
    }
   ],
   "source": [
    "import pprint\n",
    "\n",
    "search = '소녀시대'\n",
    "result = sp.search(search,limit = 2,type='track')\n",
    "\n",
    "artist_id=[] #artist의 고유 id(추천함수 및 분류에 사용)\n",
    "artist_name=[] #artist 이름\n",
    "tracks_id=[] #트랙의 id (추천함수 및 분류에 사용)\n",
    "tracks_name=[] #노래제목\n",
    "tracks_image=[] #트랙의 앨범이미지url\n",
    "\n",
    "for i in range(len(result[\"tracks\"][\"items\"])):\n",
    "    artist_id.append(result[\"tracks\"][\"items\"][i][\"artists\"][0][\"id\"]) # Extract Artist's id\n",
    "    artist_name.append(result['tracks']['items'][i]['artists'][0]['name']) \n",
    "    tracks_id.append(result['tracks']['items'][i]['id'])\n",
    "    tracks_name.append(result['tracks']['items'][i]['name'])\n",
    "    tracks_image.append(result['tracks']['items'][i]['album']['images'][0]['url'])\n",
    "\n",
    "song_infor_dict = zip(artist_id, artist_name, tracks_id, tracks_name, tracks_image)\n",
    "\n",
    "pprint.pprint(list(song_infor_dict))"
   ]
  },
  {
   "cell_type": "code",
   "execution_count": 16,
   "id": "dee9fd29",
   "metadata": {},
   "outputs": [
    {
     "name": "stdout",
     "output_type": "stream",
     "text": [
      "artist genres: ['k-pop', 'k-pop girl group']\n"
     ]
    }
   ],
   "source": [
    "search_content = '소녀시대'\n",
    "result = sp.search(search_content)\n",
    "track = result['tracks']['items'][0]\n",
    "\n",
    "artist = sp.artist(track[\"artists\"][0][\"external_urls\"][\"spotify\"])\n",
    "print(\"artist genres:\", artist[\"genres\"])\n",
    "\n",
    "#genres = result['tracks']['items'][0]['artists'][0]['genres']"
   ]
  },
  {
   "cell_type": "code",
   "execution_count": 13,
   "id": "e858ac5e",
   "metadata": {},
   "outputs": [
    {
     "ename": "KeyError",
     "evalue": "0",
     "output_type": "error",
     "traceback": [
      "\u001b[1;31m---------------------------------------------------------------------------\u001b[0m",
      "\u001b[1;31mKeyError\u001b[0m                                  Traceback (most recent call last)",
      "\u001b[1;32m~\\AppData\\Local\\Temp/ipykernel_7668/1731198641.py\u001b[0m in \u001b[0;36m<module>\u001b[1;34m\u001b[0m\n\u001b[0;32m      2\u001b[0m \u001b[0mtrack_id\u001b[0m \u001b[1;33m=\u001b[0m\u001b[1;34m'18fWwTkrIxojEC2gmVyoxS'\u001b[0m\u001b[1;33m\u001b[0m\u001b[1;33m\u001b[0m\u001b[0m\n\u001b[0;32m      3\u001b[0m \u001b[0mresult\u001b[0m \u001b[1;33m=\u001b[0m \u001b[0msp\u001b[0m\u001b[1;33m.\u001b[0m\u001b[0msearch\u001b[0m\u001b[1;33m(\u001b[0m\u001b[0mid\u001b[0m\u001b[1;33m,\u001b[0m \u001b[0mtype\u001b[0m\u001b[1;33m=\u001b[0m\u001b[1;34m\"artist\"\u001b[0m\u001b[1;33m)\u001b[0m\u001b[1;33m\u001b[0m\u001b[1;33m\u001b[0m\u001b[0m\n\u001b[1;32m----> 4\u001b[1;33m \u001b[0mgenres\u001b[0m \u001b[1;33m=\u001b[0m \u001b[0mresult\u001b[0m\u001b[1;33m[\u001b[0m\u001b[1;34m'artists'\u001b[0m\u001b[1;33m]\u001b[0m\u001b[1;33m[\u001b[0m\u001b[1;36m0\u001b[0m\u001b[1;33m]\u001b[0m\u001b[1;33m[\u001b[0m\u001b[1;34m'items'\u001b[0m\u001b[1;33m]\u001b[0m\u001b[1;33m[\u001b[0m\u001b[1;36m0\u001b[0m\u001b[1;33m]\u001b[0m\u001b[1;33m[\u001b[0m\u001b[1;34m'genres'\u001b[0m\u001b[1;33m]\u001b[0m\u001b[1;33m\u001b[0m\u001b[1;33m\u001b[0m\u001b[0m\n\u001b[0m\u001b[0;32m      5\u001b[0m \u001b[1;33m\u001b[0m\u001b[0m\n\u001b[0;32m      6\u001b[0m \u001b[0mrec\u001b[0m \u001b[1;33m=\u001b[0m \u001b[0msp\u001b[0m\u001b[1;33m.\u001b[0m\u001b[0mrecommendations\u001b[0m\u001b[1;33m(\u001b[0m\u001b[0mseed_artists\u001b[0m\u001b[1;33m=\u001b[0m\u001b[1;33m[\u001b[0m\u001b[0mid\u001b[0m\u001b[1;33m]\u001b[0m\u001b[1;33m,\u001b[0m \u001b[0mseed_genres\u001b[0m\u001b[1;33m=\u001b[0m\u001b[1;33m[\u001b[0m\u001b[0mgenres\u001b[0m\u001b[1;33m]\u001b[0m\u001b[1;33m,\u001b[0m \u001b[0mseed_tracks\u001b[0m\u001b[1;33m=\u001b[0m\u001b[1;33m[\u001b[0m\u001b[0mtrack_id\u001b[0m\u001b[1;33m]\u001b[0m\u001b[1;33m,\u001b[0m \u001b[0mlimit\u001b[0m\u001b[1;33m=\u001b[0m\u001b[1;36m5\u001b[0m\u001b[1;33m)\u001b[0m\u001b[1;33m\u001b[0m\u001b[1;33m\u001b[0m\u001b[0m\n",
      "\u001b[1;31mKeyError\u001b[0m: 0"
     ]
    }
   ],
   "source": [
    "id = '0Sadg1vgvaPqGTOjxu0N6c'\n",
    "track_id ='18fWwTkrIxojEC2gmVyoxS'\n",
    "result = sp.search()\n",
    "genres = result['artists'][0]['items'][0]['genres']\n",
    "\n",
    "rec = sp.recommendations(seed_artists=[id], seed_genres=[genres], seed_tracks=[track_id], limit=5)\n",
    "for track in rec['tracks']:\n",
    "    recommend_song = (track['artists'][0]['name'], track['name'], track['album']['images'][0]['url'])\n",
    "    \n",
    "recommend_song"
   ]
  },
  {
   "cell_type": "code",
   "execution_count": null,
   "id": "d749cce6",
   "metadata": {},
   "outputs": [],
   "source": []
  }
 ],
 "metadata": {
  "kernelspec": {
   "display_name": "Python 3 (ipykernel)",
   "language": "python",
   "name": "python3"
  },
  "language_info": {
   "codemirror_mode": {
    "name": "ipython",
    "version": 3
   },
   "file_extension": ".py",
   "mimetype": "text/x-python",
   "name": "python",
   "nbconvert_exporter": "python",
   "pygments_lexer": "ipython3",
   "version": "3.9.7"
  }
 },
 "nbformat": 4,
 "nbformat_minor": 5
}
