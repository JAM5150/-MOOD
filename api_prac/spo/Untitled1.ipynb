{
 "cells": [
  {
   "cell_type": "code",
   "execution_count": 105,
   "id": "a598beba",
   "metadata": {},
   "outputs": [],
   "source": [
    "from get_spotify_access import get_spotify_credentials\n",
    "from get_song_recommen import get_song_recommen\n",
    "from get_search import get_search"
   ]
  },
  {
   "cell_type": "code",
   "execution_count": 106,
   "id": "602dd790",
   "metadata": {},
   "outputs": [],
   "source": [
    "from spotify_credentials import CLIENT_ID, CLIENT_SECRET\n",
    "sp = get_spotify_credentials(client_id=CLIENT_ID, client_secret=CLIENT_SECRET)"
   ]
  },
  {
   "cell_type": "code",
   "execution_count": 107,
   "id": "74caa198",
   "metadata": {},
   "outputs": [],
   "source": [
    "import pprint\n",
    "search_for = '반하나'\n",
    "artist_id, artist_name, tracks_id, tracks_name, tracks_image, search_result = get_search(sp=sp, search=search_for)"
   ]
  },
  {
   "cell_type": "code",
   "execution_count": 108,
   "id": "895ed63f",
   "metadata": {},
   "outputs": [
    {
     "name": "stdout",
     "output_type": "stream",
     "text": [
      "[('BANHANA',\n",
      "  '4u82kMcuALU9XUFyVQBkjH',\n",
      "  'Already One Year',\n",
      "  'https://i.scdn.co/image/ab67616d0000b273598c697f83a2e265b04ca1ca'),\n",
      " ('OH MY GIRL BANHANA',\n",
      "  '65AWCpJajDOVyllaFigbi9',\n",
      "  'Banana Allergy Monkey',\n",
      "  'https://i.scdn.co/image/ab67616d0000b27335cdd6d3f5815afac043758e'),\n",
      " ('Lee Sun Hee',\n",
      "  '4IE9KS4FcedKuxhMQm0pv7',\n",
      "  'Destiny',\n",
      "  'https://i.scdn.co/image/ab67616d0000b273139be9d2069b7ed370c469e6'),\n",
      " ('BANHANA',\n",
      "  '3J0qA3p0nV73SvLZ6hp9b4',\n",
      "  'if we never met',\n",
      "  'https://i.scdn.co/image/ab67616d0000b273a6aa6f21335303ce41dd3c4a'),\n",
      " ('OH MY GIRL BANHANA',\n",
      "  '664W805i0NMpnfwmcxowVC',\n",
      "  'It Is Said',\n",
      "  'https://i.scdn.co/image/ab67616d0000b27335cdd6d3f5815afac043758e'),\n",
      " ('BANHANA',\n",
      "  '4NbnjzzaYUtZ652LzFMpBW',\n",
      "  '그대가 나를 본다면',\n",
      "  'https://i.scdn.co/image/ab67616d0000b273c7fc32f7a6ce89c2c3ac0a6a'),\n",
      " ('OH MY GIRL BANHANA',\n",
      "  '6LCmgtnE1sVaB9BFN1yIDH',\n",
      "  \"I'm Not in Love with You\",\n",
      "  'https://i.scdn.co/image/ab67616d0000b27335cdd6d3f5815afac043758e'),\n",
      " ('Lee Sun Hee',\n",
      "  '2FPUCbxMXpyvQxORsq2zAD',\n",
      "  'Destiny',\n",
      "  'https://i.scdn.co/image/ab67616d0000b273ee7f10fac3770aa681910908'),\n",
      " ('OH MY GIRL BANHANA',\n",
      "  '1VlxwXSjMoJDLQr8DF3MHB',\n",
      "  'Sweet Heart',\n",
      "  'https://i.scdn.co/image/ab67616d0000b273dbf5a38885fac9de3f6fcd78'),\n",
      " ('딸기맛 체리',\n",
      "  '5MbbA5f05owExegehd2IK0',\n",
      "  '반하나',\n",
      "  'https://i.scdn.co/image/ab67616d0000b2738e9cc30943b72ed79f8aadeb')]\n"
     ]
    }
   ],
   "source": [
    "pprint.pprint(list(search_result))"
   ]
  },
  {
   "cell_type": "code",
   "execution_count": 109,
   "id": "1d5e29bc",
   "metadata": {},
   "outputs": [
    {
     "name": "stdout",
     "output_type": "stream",
     "text": [
      "['6RvPayywUEsk1MMK0Magpy',\n",
      " '0X1f2U9bxiC3DhKA8OcvgG',\n",
      " '4ZQVfuvon3XnGYkjTSey1O',\n",
      " '6RvPayywUEsk1MMK0Magpy',\n",
      " '0X1f2U9bxiC3DhKA8OcvgG',\n",
      " '6RvPayywUEsk1MMK0Magpy',\n",
      " '0X1f2U9bxiC3DhKA8OcvgG',\n",
      " '4ZQVfuvon3XnGYkjTSey1O',\n",
      " '0X1f2U9bxiC3DhKA8OcvgG',\n",
      " '1mOQaS7F3QTRNnrsaEgW2t']\n",
      "6RvPayywUEsk1MMK0Magpy\n"
     ]
    }
   ],
   "source": [
    "pprint.pprint(artist_id)\n",
    "\n",
    "print(artist_id[0])"
   ]
  },
  {
   "cell_type": "code",
   "execution_count": 110,
   "id": "00bab263",
   "metadata": {},
   "outputs": [
    {
     "name": "stdout",
     "output_type": "stream",
     "text": [
      "0X1f2U9bxiC3DhKA8OcvgG\n",
      "65AWCpJajDOVyllaFigbi9\n"
     ]
    }
   ],
   "source": [
    "s = 1 #원하는 노래 선택\n",
    "artist_id = artist_id[s]\n",
    "artist_name = artist_name[s]\n",
    "tracks_id = tracks_id[s]\n",
    "tracks_name = tracks_name[s]\n",
    "tracks_image = tracks_image[s]\n",
    "\n",
    "print(artist_id)\n",
    "print(tracks_id)"
   ]
  },
  {
   "cell_type": "code",
   "execution_count": 112,
   "id": "495ddaba",
   "metadata": {},
   "outputs": [
    {
     "ename": "TypeError",
     "evalue": "get_song_recommen() got an unexpected keyword argument 'artist_id'",
     "output_type": "error",
     "traceback": [
      "\u001b[1;31m---------------------------------------------------------------------------\u001b[0m",
      "\u001b[1;31mTypeError\u001b[0m                                 Traceback (most recent call last)",
      "\u001b[1;32m~\\AppData\\Local\\Temp/ipykernel_8540/1166501355.py\u001b[0m in \u001b[0;36m<module>\u001b[1;34m\u001b[0m\n\u001b[1;32m----> 1\u001b[1;33m \u001b[0martist_name\u001b[0m\u001b[1;33m,\u001b[0m \u001b[0mtracks\u001b[0m\u001b[1;33m,\u001b[0m \u001b[0mtracks_img\u001b[0m\u001b[1;33m,\u001b[0m \u001b[0mrecommend\u001b[0m \u001b[1;33m=\u001b[0m \u001b[0mget_song_recommen\u001b[0m\u001b[1;33m(\u001b[0m\u001b[0msp\u001b[0m\u001b[1;33m=\u001b[0m\u001b[0msp\u001b[0m\u001b[1;33m,\u001b[0m \u001b[0martist_id\u001b[0m\u001b[1;33m=\u001b[0m\u001b[0martist_id\u001b[0m\u001b[1;33m,\u001b[0m \u001b[0martist_name\u001b[0m\u001b[1;33m=\u001b[0m\u001b[0martist_name\u001b[0m\u001b[1;33m,\u001b[0m \u001b[0mtrack_id\u001b[0m\u001b[1;33m=\u001b[0m\u001b[0mtracks_id\u001b[0m\u001b[1;33m)\u001b[0m\u001b[1;33m\u001b[0m\u001b[1;33m\u001b[0m\u001b[0m\n\u001b[0m",
      "\u001b[1;31mTypeError\u001b[0m: get_song_recommen() got an unexpected keyword argument 'artist_id'"
     ]
    }
   ],
   "source": [
    "artist_name, tracks, tracks_img, recommend = get_song_recommen(sp=sp, artist_id=artist_id, artist_name=artist_name, track_id=tracks_id)\n"
   ]
  },
  {
   "cell_type": "code",
   "execution_count": 93,
   "id": "ec1bcf48",
   "metadata": {},
   "outputs": [
    {
     "name": "stdout",
     "output_type": "stream",
     "text": [
      "Lost Frequencies Where Are You Now\n",
      "2NE1 Go Away\n",
      "BIGBANG Cafe\n",
      "박재범 & 노영채 & 구인회 Summer Dream\n",
      "Robert Palmer Addicted To Love\n",
      "John Mellencamp Hurts So Good\n",
      "Joe Cocker Up Where We Belong\n",
      "Basick & Kim Saehangil Miss Pretty(Inst)\n",
      "AJR Bang!\n",
      "K/DA The Baddest\n"
     ]
    }
   ],
   "source": [
    "rec = sp.recommendations(seed_artists=[\"3PhoLpVuITZKcymswpck5b\"], seed_genres=[\"k-pop\"], seed_tracks=[\"1r9xUipOqoNwggBpENDsvJ\"], limit=10)\n",
    "for track in rec['tracks']:\n",
    "    print(track['artists'][0]['name'], track['name'])"
   ]
  },
  {
   "cell_type": "code",
   "execution_count": 99,
   "id": "33442fd7",
   "metadata": {},
   "outputs": [
    {
     "name": "stdout",
     "output_type": "stream",
     "text": [
      "['Lost Frequencies', '2NE1', 'BIGBANG', '박재범 & 노영채 & 구인회', 'Robert Palmer', 'John Mellencamp', 'Joe Cocker', 'Basick & Kim Saehangil', 'AJR', 'K/DA']\n",
      "['Where Are You Now', 'Go Away', 'Cafe', 'Summer Dream', 'Addicted To Love', 'Hurts So Good', 'Up Where We Belong', 'Miss Pretty(Inst)', 'Bang!', 'The Baddest']\n",
      "['https://i.scdn.co/image/ab67616d0000b2738d7a7f1855b04104ba59c18b', 'https://i.scdn.co/image/ab67616d0000b2733132b910ec0f6fa5473be6cf', 'https://i.scdn.co/image/ab67616d0000b273fe6da2e2ef9251deb7e65856', 'https://i.scdn.co/image/ab67616d0000b2736c749431adf14c1d0e7ead6f', 'https://i.scdn.co/image/ab67616d0000b273f3bc80c86bab200ea5ffe10b', 'https://i.scdn.co/image/ab67616d0000b273b1945b44ce8868740f132f8e', 'https://i.scdn.co/image/ab67616d0000b2730ad471f9f021f15d4a404f14', 'https://i.scdn.co/image/ab67616d0000b273ca80f7998418e0eb7778fb23', 'https://i.scdn.co/image/ab67616d0000b273fc9511f26808c1eee73b414d', 'https://i.scdn.co/image/ab67616d0000b2733940d5819a8caa50f9b88aef']\n"
     ]
    }
   ],
   "source": [
    "artist=[]\n",
    "tracks=[]\n",
    "tracks_img=[]\n",
    "for track in rec['tracks']:\n",
    "    artist.append(track['artists'][0]['name'])\n",
    "    tracks.append(track['name'])\n",
    "    tracks_img.append(track['album']['images'][0]['url'])\n",
    "\n",
    "print(artist)\n",
    "print(tracks)\n",
    "print(tracks_img)"
   ]
  },
  {
   "cell_type": "code",
   "execution_count": 101,
   "id": "e55ce68e",
   "metadata": {},
   "outputs": [],
   "source": [
    "recom = zip(artist,tracks,tracks_img)"
   ]
  },
  {
   "cell_type": "code",
   "execution_count": 102,
   "id": "c9f84d2b",
   "metadata": {},
   "outputs": [
    {
     "name": "stdout",
     "output_type": "stream",
     "text": [
      "[('Lost Frequencies', 'Where Are You Now', 'https://i.scdn.co/image/ab67616d0000b2738d7a7f1855b04104ba59c18b'), ('2NE1', 'Go Away', 'https://i.scdn.co/image/ab67616d0000b2733132b910ec0f6fa5473be6cf'), ('BIGBANG', 'Cafe', 'https://i.scdn.co/image/ab67616d0000b273fe6da2e2ef9251deb7e65856'), ('박재범 & 노영채 & 구인회', 'Summer Dream', 'https://i.scdn.co/image/ab67616d0000b2736c749431adf14c1d0e7ead6f'), ('Robert Palmer', 'Addicted To Love', 'https://i.scdn.co/image/ab67616d0000b273f3bc80c86bab200ea5ffe10b'), ('John Mellencamp', 'Hurts So Good', 'https://i.scdn.co/image/ab67616d0000b273b1945b44ce8868740f132f8e'), ('Joe Cocker', 'Up Where We Belong', 'https://i.scdn.co/image/ab67616d0000b2730ad471f9f021f15d4a404f14'), ('Basick & Kim Saehangil', 'Miss Pretty(Inst)', 'https://i.scdn.co/image/ab67616d0000b273ca80f7998418e0eb7778fb23'), ('AJR', 'Bang!', 'https://i.scdn.co/image/ab67616d0000b273fc9511f26808c1eee73b414d'), ('K/DA', 'The Baddest', 'https://i.scdn.co/image/ab67616d0000b2733940d5819a8caa50f9b88aef')]\n"
     ]
    }
   ],
   "source": [
    "print(list(recom))"
   ]
  },
  {
   "cell_type": "code",
   "execution_count": null,
   "id": "52122cba",
   "metadata": {},
   "outputs": [],
   "source": []
  }
 ],
 "metadata": {
  "kernelspec": {
   "display_name": "Python 3 (ipykernel)",
   "language": "python",
   "name": "python3"
  },
  "language_info": {
   "codemirror_mode": {
    "name": "ipython",
    "version": 3
   },
   "file_extension": ".py",
   "mimetype": "text/x-python",
   "name": "python",
   "nbconvert_exporter": "python",
   "pygments_lexer": "ipython3",
   "version": "3.9.7"
  }
 },
 "nbformat": 4,
 "nbformat_minor": 5
}
