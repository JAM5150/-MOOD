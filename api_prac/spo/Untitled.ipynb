{
 "cells": [
  {
   "cell_type": "code",
   "execution_count": 83,
   "id": "66a7565e",
   "metadata": {},
   "outputs": [],
   "source": [
    "from get_spotify_access import get_spotify_credentials\n",
    "from get_song_recommen import get_song_recommen\n",
    "from get_album_art import get_album_art\n",
    "from get_albums_details import get_album_details"
   ]
  },
  {
   "cell_type": "code",
   "execution_count": 84,
   "id": "b5294d75",
   "metadata": {},
   "outputs": [],
   "source": [
    "from spotify_credentials import CLIENT_ID, CLIENT_SECRET\n",
    "\n",
    "sp = get_spotify_credentials(client_id=CLIENT_ID, client_secret=CLIENT_SECRET)"
   ]
  },
  {
   "cell_type": "code",
   "execution_count": 96,
   "id": "3e60816e",
   "metadata": {},
   "outputs": [
    {
     "name": "stdout",
     "output_type": "stream",
     "text": [
      "[('0Sadg1vgvaPqGTOjxu0N6c',\n",
      "  \"Girls' Generation\",\n",
      "  '0t7kjpVLgOYITrSfFCoBEA',\n",
      "  'Gee',\n",
      "  'https://i.scdn.co/image/ab67616d0000b2739b57e9b31c831fb2137c38e2'),\n",
      " ('0Sadg1vgvaPqGTOjxu0N6c',\n",
      "  \"Girls' Generation\",\n",
      "  '18fWwTkrIxojEC2gmVyoxS',\n",
      "  'Kissing You',\n",
      "  'https://i.scdn.co/image/ab67616d0000b2731111b7562b4b46870d27f98b')]\n"
     ]
    }
   ],
   "source": [
    "import pprint\n",
    "\n",
    "search = '소녀시대'\n",
    "result = sp.search(search,limit = 2,type='track')\n",
    "\n",
    "artist_id=[] #artist의 고유 id(추천함수 및 분류에 사용)\n",
    "artist_name=[] #artist 이름\n",
    "tracks_id=[] #트랙의 id (추천함수 및 분류에 사용)\n",
    "tracks_name=[] #노래제목\n",
    "tracks_image=[] #트랙의 앨범이미지url\n",
    "\n",
    "for i in range(len(result[\"tracks\"][\"items\"])):\n",
    "    artist_id.append(result[\"tracks\"][\"items\"][i][\"artists\"][0][\"id\"]) # Extract Artist's id\n",
    "    artist_name.append(result['tracks']['items'][i]['artists'][0]['name']) \n",
    "    tracks_id.append(result['tracks']['items'][i]['id'])\n",
    "    tracks_name.append(result['tracks']['items'][i]['name'])\n",
    "    tracks_image.append(result['tracks']['items'][i]['album']['images'][0]['url'])\n",
    "\n",
    "song_infor_dict = zip(artist_id, artist_name, tracks_id, tracks_name, tracks_image)\n",
    "\n",
    "pprint.pprint(list(song_infor_dict))"
   ]
  },
  {
   "cell_type": "code",
   "execution_count": 88,
   "id": "6408755a",
   "metadata": {},
   "outputs": [
    {
     "data": {
      "text/plain": [
       "{'Holiday Night - The 6th Album': 'spotify:album:5MQM8Jw1FvT21Dny8cOXjF',\n",
       " 'Lion Heart - The 5th Album': 'spotify:album:4eKdn0skJCidO2wqIJyCgB',\n",
       " 'LOVE&PEACE': 'spotify:album:6wEWyxbvJIQBvzSbZDAWet',\n",
       " \"2011 Girls' Generation Tour\": 'spotify:album:5qFec1Z5GtW5wbUsaCRsWg',\n",
       " 'I GOT A BOY - The 4th Album': 'spotify:album:3uhihQCm9aSvdJmDXcVrvi',\n",
       " 'GIRLS’ GENERATION II ~Girls & Peace~': 'spotify:album:2W1T7XzyzYuvC3eKQ6JSxu',\n",
       " 'I Got A Boy': 'spotify:album:2gFTUesWGzUHyT26slYlKH',\n",
       " 'Twinkle': 'spotify:album:5G5cWkK9zsEX91L1ZuAYaV',\n",
       " 'The Boys - The 3rd Album': 'spotify:album:7ocy5OpyZXrN4xiDgYSDOM',\n",
       " 'BABYBABY': 'spotify:album:1xbVi5T6nMgrfmjHhjjVIu',\n",
       " 'GIRLS’ GENERATION': 'spotify:album:1xk5M7P8xdi5Ii0b7b7SzH',\n",
       " 'Into The New World (The First Asia Tour)': 'spotify:album:3gQKLh7YC3VjvO3AMDVuJt',\n",
       " 'MR. TAXI - THE 3RD ALBUM (Version B)': 'spotify:album:4Sn4bxHxtfT8M2NdSj7Rvz',\n",
       " 'Re:package Album “GIRLS’ GENERATION”~The Boys~': 'spotify:album:1Ttd6EQeIDvaDYcGW0EDpJ',\n",
       " 'The Boys': 'spotify:album:3RlHApvIdfDGHXNHgzMlCw',\n",
       " 'The Boys [Taiwan (Tin Box version)]': 'spotify:album:1qa9Ixaeyx60Pc8BWSuhNx',\n",
       " 'Run Devil Run - The 2nd Album Repackage': 'spotify:album:2b4JQKXl0gwf3bnAfhZwLA',\n",
       " 'Oh! - The Second Album': 'spotify:album:4e841RxorIoZIufX8v7p7E',\n",
       " \"BABY BABY - Girls' Generation Repackage\": 'spotify:album:4WzpK0mIeVP4igTpG5pdeg'}"
      ]
     },
     "execution_count": 88,
     "metadata": {},
     "output_type": "execute_result"
    }
   ],
   "source": [
    "\n",
    "# Pull all of the artist's albums\n",
    "sp_albums = sp.artist_albums(artist_uri, album_type=\"album\")\n",
    "\n",
    "# CHECK THAT ALL THE ALBUMS ARE BEING DOWNLOADED -- MIGHT BE A BUG\n",
    "# Store artist's albums' names' and uris in separate lists\n",
    "album_names = []\n",
    "album_uris = []\n",
    "album_img_urls = []\n",
    "for i in range(len(sp_albums[\"items\"])):\n",
    "    album_names.append(sp_albums[\"items\"][i][\"name\"])\n",
    "    album_uris.append(sp_albums[\"items\"][i][\"uri\"])\n",
    "    album_img_urls.append(sp_albums[\"items\"][i][\"images\"][0][\"url\"])\n",
    "\n",
    "album_name_dict = dict(zip(album_names, album_uris)) #앨범이름:앨범uri\n",
    "album_img_url_dict = dict(zip(album_names, album_img_urls)) #앨범이름:앨범아트\n",
    "\n",
    "album_name_dict"
   ]
  },
  {
   "cell_type": "code",
   "execution_count": 46,
   "id": "348b8f37",
   "metadata": {},
   "outputs": [
    {
     "data": {
      "text/plain": [
       "{'1JZgEaipMqniwSBe9sYXQG': 'https://i.scdn.co/image/ab67616d0000b273c6f38a741a7b992ca5bf8269',\n",
       " '1Vvvx45Apu6dQqwuZQxtgW': 'https://i.scdn.co/image/ab6761610000e5eb1a97a24c458764dfe071a7ef',\n",
       " '7Lq3yAtwi0Z7zpxEwbQQNZ': 'https://i.scdn.co/image/ab6761610000e5eba1f3e8862a8c0f79fb3322b2'}"
      ]
     },
     "execution_count": 46,
     "metadata": {},
     "output_type": "execute_result"
    }
   ],
   "source": [
    "artist_dict"
   ]
  },
  {
   "cell_type": "code",
   "execution_count": null,
   "id": "1859ebd7",
   "metadata": {},
   "outputs": [],
   "source": [
    "\n",
    "rec = sp.recommendations(seed_artists=[id], seed_genres=[genres], seed_tracks=[track_id], limit=5)\n",
    "for track in rec['tracks']:\n",
    "    recommend_song = (track['artists'][0]['name'], track['name'], track['album']['images'][0]['url'])"
   ]
  }
 ],
 "metadata": {
  "kernelspec": {
   "display_name": "Python 3 (ipykernel)",
   "language": "python",
   "name": "python3"
  },
  "language_info": {
   "codemirror_mode": {
    "name": "ipython",
    "version": 3
   },
   "file_extension": ".py",
   "mimetype": "text/x-python",
   "name": "python",
   "nbconvert_exporter": "python",
   "pygments_lexer": "ipython3",
   "version": "3.9.7"
  }
 },
 "nbformat": 4,
 "nbformat_minor": 5
}
